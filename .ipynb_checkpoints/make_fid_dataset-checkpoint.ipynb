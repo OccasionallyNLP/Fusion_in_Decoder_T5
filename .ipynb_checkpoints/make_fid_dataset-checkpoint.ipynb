{
 "cells": [
  {
   "cell_type": "code",
   "execution_count": 1,
   "id": "84309488-56a5-489a-9db8-163a3435f9e4",
   "metadata": {},
   "outputs": [],
   "source": [
    "from datasets import load_dataset"
   ]
  },
  {
   "cell_type": "code",
   "execution_count": null,
   "id": "ba650088-78b9-4c0c-9b33-685d27a0fd98",
   "metadata": {},
   "outputs": [],
   "source": [
    "tok = AutoTokenizer.from_pretrained('KETI-AIR/ke-t5-small')"
   ]
  },
  {
   "cell_type": "code",
   "execution_count": null,
   "id": "e6784042-1c64-43a4-ac21-4299736eefe6",
   "metadata": {},
   "outputs": [
    {
     "name": "stderr",
     "output_type": "stream",
     "text": [
      "Reusing dataset klue (C:\\Users\\User\\.cache\\huggingface\\datasets\\klue\\nli\\1.0.0\\e0fc3bc3de3eb03be2c92d72fd04a60ecc71903f821619cb28ca0e1e29e4233e)\n"
     ]
    },
    {
     "data": {
      "application/vnd.jupyter.widget-view+json": {
       "model_id": "fc7e1a874a5142139ce3a3a39f3261df",
       "version_major": 2,
       "version_minor": 0
      },
      "text/plain": [
       "  0%|          | 0/2 [00:00<?, ?it/s]"
      ]
     },
     "metadata": {},
     "output_type": "display_data"
    }
   ],
   "source": [
    "dataset = load_dataset(\"klue\", \"nli\")"
   ]
  },
  {
   "cell_type": "code",
   "execution_count": null,
   "id": "6ca8e7f2-5840-48bc-ac5b-960778e9a5a2",
   "metadata": {},
   "outputs": [],
   "source": [
    "label2text = {0:'entailment', 1:'neutral', 2:'contradiction'}"
   ]
  },
  {
   "cell_type": "code",
   "execution_count": 7,
   "id": "24729d66-41a3-4bf9-81d0-2b6de99f9a57",
   "metadata": {},
   "outputs": [],
   "source": [
    "dev = [i for i in dataset['validation']]"
   ]
  },
  {
   "cell_type": "code",
   "execution_count": 12,
   "id": "cdbe7979-f868-4165-8d89-7b3dbd19e645",
   "metadata": {},
   "outputs": [],
   "source": [
    "from utils.utils import *"
   ]
  },
  {
   "cell_type": "code",
   "execution_count": 13,
   "id": "cfd64be7-d151-4e36-afe9-7a245f93aee7",
   "metadata": {},
   "outputs": [],
   "source": [
    "for i in dev:\n",
    "    i['premise'] = [i['premise']]"
   ]
  },
  {
   "cell_type": "code",
   "execution_count": 14,
   "id": "d0585333-2878-448c-982f-4932d7634194",
   "metadata": {},
   "outputs": [
    {
     "name": "stderr",
     "output_type": "stream",
     "text": [
      "100%|██████████████████████████████████████████████████████████████████████████| 3000/3000 [00:00<00:00, 165798.06it/s]\n"
     ]
    }
   ],
   "source": [
    "save_jsonl('.',dev,'dev')"
   ]
  },
  {
   "cell_type": "code",
   "execution_count": 5,
   "id": "ea6046e7-6ded-4396-b1e9-70338d6b80e8",
   "metadata": {},
   "outputs": [
    {
     "data": {
      "text/plain": [
       "DatasetDict({\n",
       "    train: Dataset({\n",
       "        features: ['guid', 'source', 'premise', 'hypothesis', 'label'],\n",
       "        num_rows: 24998\n",
       "    })\n",
       "    validation: Dataset({\n",
       "        features: ['guid', 'source', 'premise', 'hypothesis', 'label'],\n",
       "        num_rows: 3000\n",
       "    })\n",
       "})"
      ]
     },
     "execution_count": 5,
     "metadata": {},
     "output_type": "execute_result"
    }
   ],
   "source": [
    "dataset"
   ]
  },
  {
   "cell_type": "code",
   "execution_count": null,
   "id": "479de5c4-3140-440b-8f34-39d5c7c01ba4",
   "metadata": {},
   "outputs": [],
   "source": [
    "dev"
   ]
  },
  {
   "cell_type": "code",
   "execution_count": 4,
   "id": "b0390ad3-a31f-4571-b433-0c2f75ad6d36",
   "metadata": {},
   "outputs": [
    {
     "data": {
      "text/plain": [
       "{'guid': 'klue-nli-v1_train_00000',\n",
       " 'source': 'NSMC',\n",
       " 'premise': '힛걸 진심 최고다 그 어떤 히어로보다 멋지다',\n",
       " 'hypothesis': '힛걸 진심 최고로 멋지다.',\n",
       " 'label': 0}"
      ]
     },
     "execution_count": 4,
     "metadata": {},
     "output_type": "execute_result"
    }
   ],
   "source": [
    "dataset['train'][0]"
   ]
  }
 ],
 "metadata": {
  "kernelspec": {
   "display_name": "Python 3 (ipykernel)",
   "language": "python",
   "name": "python3"
  },
  "language_info": {
   "codemirror_mode": {
    "name": "ipython",
    "version": 3
   },
   "file_extension": ".py",
   "mimetype": "text/x-python",
   "name": "python",
   "nbconvert_exporter": "python",
   "pygments_lexer": "ipython3",
   "version": "3.9.7"
  }
 },
 "nbformat": 4,
 "nbformat_minor": 5
}
